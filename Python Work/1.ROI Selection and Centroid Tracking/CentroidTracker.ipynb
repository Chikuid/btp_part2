{
 "cells": [
  {
   "cell_type": "code",
   "execution_count": 30,
   "metadata": {
    "collapsed": true
   },
   "outputs": [],
   "source": [
    "import cv2\n",
    "import numpy as np\n",
    "import matplotlib.pyplot as plt\n",
    "import seaborn as sns"
   ]
  },
  {
   "cell_type": "code",
   "execution_count": 31,
   "metadata": {
    "collapsed": true
   },
   "outputs": [],
   "source": [
    "cap = cv2.VideoCapture(\"12.avi\")"
   ]
  },
  {
   "cell_type": "code",
   "execution_count": 32,
   "metadata": {
    "collapsed": true
   },
   "outputs": [],
   "source": [
    "while not cap.isOpened():\n",
    "    cap = cv2.VideoCapture(\"12.avi\")\n",
    "    cv2.waitKey(1000)\n",
    "    print(\"Wait for the header\")"
   ]
  },
  {
   "cell_type": "code",
   "execution_count": 33,
   "metadata": {
    "collapsed": true
   },
   "outputs": [],
   "source": [
    "pos_frame = cap.get(cv2.CAP_PROP_POS_FRAMES)\n",
    "fps = cap.get(cv2.CAP_PROP_FPS)"
   ]
  },
  {
   "cell_type": "code",
   "execution_count": 34,
   "metadata": {
    "collapsed": true
   },
   "outputs": [],
   "source": [
    "# https://www.pyimagesearch.com/2015/03/09/capturing-mouse-click-events-with-python-and-opencv/\n",
    "refPt = []\n",
    "cropping = False\n",
    "title = \"press 'n' for next, 'r' to reset, 'c' to stop\""
   ]
  },
  {
   "cell_type": "code",
   "execution_count": 35,
   "metadata": {
    "collapsed": true
   },
   "outputs": [],
   "source": [
    "def click_and_crop(event, x, y, flags, param):\n",
    "    # grab references to the global variables\n",
    "    global refPt, cropping\n",
    "    \n",
    "    # if the left mouse button is pressed, record the starting (x, y)\n",
    "    # coordinates and indicate that cropping is being performed\n",
    "    if event == cv2.EVENT_LBUTTONDOWN:\n",
    "        refPt = [(x, y)]\n",
    "        cropping = True\n",
    "    \n",
    "    # check to see if the left mouse button was released\n",
    "    elif event == cv2.EVENT_LBUTTONUP:\n",
    "        # record the ending (x, y) coordinates and indicate that\n",
    "        # the cropping operation is finished\n",
    "        refPt.append((x, y))\n",
    "        cropping = False\n",
    "        \n",
    "        # draw a rectangle around the region of interest\n",
    "        cv2.rectangle(image, refPt[0], refPt[1], (0, 255, 0), 2)\n",
    "        cv2.imshow(title , image)"
   ]
  },
  {
   "cell_type": "code",
   "execution_count": 36,
   "metadata": {
    "collapsed": true
   },
   "outputs": [],
   "source": [
    "# # construct the argument parser and parse the arguments\n",
    "# ap = argparse.ArgumentParser()\n",
    "# ap.add_argument(\"-i\", \"--image\", required=True, help=\"Path to the image\")\n",
    "# args = vars(ap.parse_args())\n",
    " \n",
    "# load the image, clone it, and setup the mouse callback function\n",
    "flag, image = cap.read() \n",
    "clone = image.copy()\n",
    "cv2.namedWindow(title)\n",
    "cv2.setMouseCallback(title, click_and_crop)\n",
    " \n",
    "# keep looping until the 'q' key is pressed\n",
    "while True:\n",
    "\n",
    "    # display the image and wait for a keypress\n",
    "    cv2.imshow(title, image)\n",
    "    key = cv2.waitKey(1) & 0xFF\n",
    " \n",
    "    # if the 'n' key is pressed, give a frame after 1 sec\n",
    "    # for reselecting ROI\n",
    "    if key == ord(\"n\"):\n",
    "        pos_frame = pos_frame + fps\n",
    "        cap.set(cv2.CAP_PROP_POS_FRAMES, pos_frame)\n",
    "        flag, image = cap.read()\n",
    "        clone = image.copy()\n",
    "        cv2.namedWindow(title)\n",
    "        cv2.setMouseCallback(title, click_and_crop)\n",
    "    \n",
    "    \n",
    "    # if the 'r' key is pressed, reset the cropping region\n",
    "    if key == ord(\"r\"):\n",
    "        image = clone.copy()\n",
    " \n",
    "    # if the 'c' key is pressed, break from the loop\n",
    "    elif key == ord(\"c\"):\n",
    "        break\n",
    " \n",
    "# if there are two reference points, then crop the region of interest\n",
    "# from teh image and display it\n",
    "if len(refPt) == 2:\n",
    "    roi = clone[refPt[0][1]:refPt[1][1], refPt[0][0]:refPt[1][0]]\n",
    "    cv2.imshow(\"ROI\", roi)\n",
    "    cv2.waitKey(0)\n",
    " \n",
    "# close all open windows\n",
    "cv2.destroyAllWindows()"
   ]
  },
  {
   "cell_type": "code",
   "execution_count": 37,
   "metadata": {
    "collapsed": true
   },
   "outputs": [],
   "source": [
    "ref_frame_pos = pos_frame"
   ]
  },
  {
   "cell_type": "code",
   "execution_count": 9,
   "metadata": {
    "collapsed": true
   },
   "outputs": [],
   "source": [
    "image_gray = cv2.cvtColor(image, cv2.COLOR_BGR2GRAY)"
   ]
  },
  {
   "cell_type": "code",
   "execution_count": 10,
   "metadata": {
    "collapsed": true
   },
   "outputs": [],
   "source": [
    "M = cv2.moments(image_gray)"
   ]
  },
  {
   "cell_type": "code",
   "execution_count": 11,
   "metadata": {
    "collapsed": true
   },
   "outputs": [],
   "source": [
    "cX = int(M[\"m10\"] / M[\"m00\"])\n",
    "cY = int(M[\"m01\"] / M[\"m00\"])"
   ]
  },
  {
   "cell_type": "code",
   "execution_count": 12,
   "metadata": {
    "collapsed": true
   },
   "outputs": [],
   "source": [
    "while True:\n",
    "    flag, frame = cap.read()\n",
    "    if flag:\n",
    "        pos_frame = cap.get(cv2.CAP_PROP_POS_FRAMES)\n",
    "        frame_gray = cv2.cvtColor(frame, cv2.COLOR_BGR2GRAY)\n",
    "        M = cv2.moments(frame_gray)\n",
    "        cX_new = int(M[\"m10\"] / M[\"m00\"])\n",
    "        cY_new = int(M[\"m01\"] / M[\"m00\"])\n",
    "        newROI = [(refPt[0][0] + cX - cX_new, refPt[0][1] + cY - cY_new)];\n",
    "        newROI.append(((refPt[1][0] + cX - cX_new), (refPt[1][1] + cY - cY_new)))\n",
    "        cv2.rectangle(frame, newROI[0], newROI[1], (0, 0, 255), 2)\n",
    "        cv2.imshow(\"ROI Tracking\", frame)\n",
    "    else:\n",
    "        # The next frame is not ready, so we try to read it again\n",
    "        cap.set(cv2.CAP_PROP_POS_FRAMES, pos_frame-1)\n",
    "        print(\"frame is not ready\")\n",
    "        # Waiting 100ms\n",
    "        cv2.waitKey(100)\n",
    "    key = cv2.waitKey(1) & 0xFF\n",
    "    if key == ord(\"q\"):\n",
    "        break\n",
    "    if cap.get(cv2.CAP_PROP_POS_FRAMES) == cap.get(cv2.CAP_PROP_FRAME_COUNT):\n",
    "        # If the number of captured frames is equal to the total number of frames,\n",
    "        # we stop\n",
    "        break\n",
    "# close all open windows\n",
    "cv2.destroyAllWindows()"
   ]
  },
  {
   "cell_type": "code",
   "execution_count": 40,
   "metadata": {},
   "outputs": [
    {
     "data": {
      "text/plain": [
       "True"
      ]
     },
     "execution_count": 40,
     "metadata": {},
     "output_type": "execute_result"
    }
   ],
   "source": [
    "cap.set(cv2.CAP_PROP_POS_FRAMES, ref_frame_pos)"
   ]
  },
  {
   "cell_type": "code",
   "execution_count": 41,
   "metadata": {
    "collapsed": true
   },
   "outputs": [],
   "source": [
    "flag, frame = cap.read()"
   ]
  },
  {
   "cell_type": "code",
   "execution_count": 42,
   "metadata": {},
   "outputs": [
    {
     "data": {
      "text/plain": [
       "True"
      ]
     },
     "execution_count": 42,
     "metadata": {},
     "output_type": "execute_result"
    }
   ],
   "source": [
    "cv2.imwrite(\"another.jpg\", frame)"
   ]
  },
  {
   "cell_type": "code",
   "execution_count": null,
   "metadata": {
    "collapsed": true
   },
   "outputs": [],
   "source": []
  }
 ],
 "metadata": {
  "kernelspec": {
   "display_name": "Python 3",
   "language": "python",
   "name": "python3"
  },
  "language_info": {
   "codemirror_mode": {
    "name": "ipython",
    "version": 3
   },
   "file_extension": ".py",
   "mimetype": "text/x-python",
   "name": "python",
   "nbconvert_exporter": "python",
   "pygments_lexer": "ipython3",
   "version": "3.6.3"
  }
 },
 "nbformat": 4,
 "nbformat_minor": 2
}
