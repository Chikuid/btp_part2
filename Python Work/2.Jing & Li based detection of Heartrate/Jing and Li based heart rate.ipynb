{
 "cells": [
  {
   "cell_type": "code",
   "execution_count": 49,
   "metadata": {
    "collapsed": true
   },
   "outputs": [],
   "source": [
    "import cv2\n",
    "import numpy as np\n",
    "import matplotlib.pyplot as plt\n",
    "import seaborn as sns\n",
    "%matplotlib inline"
   ]
  },
  {
   "cell_type": "code",
   "execution_count": 50,
   "metadata": {
    "collapsed": true
   },
   "outputs": [],
   "source": [
    "cap = cv2.VideoCapture(\"12.avi\")"
   ]
  },
  {
   "cell_type": "code",
   "execution_count": 51,
   "metadata": {
    "collapsed": true
   },
   "outputs": [],
   "source": [
    "while not cap.isOpened():\n",
    "    cap = cv2.VideoCapture(\"12.avi\")\n",
    "    cv2.waitKey(1000)\n",
    "    print(\"Wait for the header\")"
   ]
  },
  {
   "cell_type": "code",
   "execution_count": 52,
   "metadata": {
    "collapsed": true
   },
   "outputs": [],
   "source": [
    "pos_frame = cap.get(cv2.CAP_PROP_POS_FRAMES)\n",
    "fps = cap.get(cv2.CAP_PROP_FPS)"
   ]
  },
  {
   "cell_type": "code",
   "execution_count": 53,
   "metadata": {
    "collapsed": true
   },
   "outputs": [],
   "source": [
    "# https://www.pyimagesearch.com/2015/03/09/capturing-mouse-click-events-with-python-and-opencv/\n",
    "refPt = []\n",
    "cropping = False\n",
    "title = \"press 'n' for next, 'r' to reset, 'c' to stop\""
   ]
  },
  {
   "cell_type": "code",
   "execution_count": 54,
   "metadata": {
    "collapsed": true
   },
   "outputs": [],
   "source": [
    "def click_and_crop(event, x, y, flags, param):\n",
    "    # grab references to the global variables\n",
    "    global refPt, cropping\n",
    "    \n",
    "    # if the left mouse button is pressed, record the starting (x, y)\n",
    "    # coordinates and indicate that cropping is being performed\n",
    "    if event == cv2.EVENT_LBUTTONDOWN:\n",
    "        refPt = [(x, y)]\n",
    "        cropping = True\n",
    "    \n",
    "    # check to see if the left mouse button was released\n",
    "    elif event == cv2.EVENT_LBUTTONUP:\n",
    "        # record the ending (x, y) coordinates and indicate that\n",
    "        # the cropping operation is finished\n",
    "        refPt.append((x, y))\n",
    "        cropping = False\n",
    "        \n",
    "        # draw a rectangle around the region of interest\n",
    "        cv2.rectangle(image, refPt[0], refPt[1], (0, 255, 0), 2)\n",
    "        cv2.imshow(title , image)"
   ]
  },
  {
   "cell_type": "code",
   "execution_count": null,
   "metadata": {
    "collapsed": true
   },
   "outputs": [],
   "source": [
    "# # construct the argument parser and parse the arguments\n",
    "# ap = argparse.ArgumentParser()\n",
    "# ap.add_argument(\"-i\", \"--image\", required=True, help=\"Path to the image\")\n",
    "# args = vars(ap.parse_args())\n",
    " \n",
    "# load the image, clone it, and setup the mouse callback function\n",
    "flag, image = cap.read() \n",
    "clone = image.copy()\n",
    "cv2.namedWindow(title)\n",
    "cv2.setMouseCallback(title, click_and_crop)\n",
    " \n",
    "# keep looping until the 'q' key is pressed\n",
    "while True:\n",
    "\n",
    "    # display the image and wait for a keypress\n",
    "    cv2.imshow(title, image)\n",
    "    key = cv2.waitKey(1) & 0xFF\n",
    " \n",
    "    # if the 'n' key is pressed, give a frame after 1 sec\n",
    "    # for reselecting ROI\n",
    "    if key == ord(\"n\"):\n",
    "        if cap.get(cv2.CAP_PROP_POS_FRAMES) + fps >= cap.get(cv2.CAP_PROP_FRAME_COUNT):\n",
    "            print(\"No more frames!\")\n",
    "            break\n",
    "        pos_frame = pos_frame + fps\n",
    "        cap.set(cv2.CAP_PROP_POS_FRAMES, pos_frame)\n",
    "        flag, image = cap.read()\n",
    "        clone = image.copy()\n",
    "        cv2.namedWindow(title)\n",
    "        cv2.setMouseCallback(title, click_and_crop)\n",
    "    \n",
    "    \n",
    "    # if the 'r' key is pressed, reset the cropping region\n",
    "    if key == ord(\"r\"):\n",
    "        image = clone.copy()\n",
    " \n",
    "    # if the 'c' key is pressed, break from the loop\n",
    "    elif key == ord(\"c\"):\n",
    "        break\n",
    " \n",
    "# if there are two reference points, then crop the region of interest\n",
    "# from teh image and display it\n",
    "if len(refPt) == 2:\n",
    "    roi = clone[refPt[0][1]:refPt[1][1], refPt[0][0]:refPt[1][0]]\n",
    "    cv2.imshow(\"ROI\", roi)\n",
    "    cv2.waitKey(0)\n",
    " \n",
    "# close all open windows\n",
    "cv2.destroyAllWindows()"
   ]
  },
  {
   "cell_type": "code",
   "execution_count": 19,
   "metadata": {
    "collapsed": true
   },
   "outputs": [],
   "source": [
    "ref_frame_pos = pos_frame"
   ]
  },
  {
   "cell_type": "code",
   "execution_count": 20,
   "metadata": {},
   "outputs": [
    {
     "name": "stdout",
     "output_type": "stream",
     "text": [
      "Ref frame: 1539.0\n",
      "ROI:  (247, 247)   (291, 276)\n"
     ]
    }
   ],
   "source": [
    "print(\"Ref frame:\", ref_frame_pos)\n",
    "print(\"ROI: \", refPt[0],\" \", refPt[1])"
   ]
  },
  {
   "cell_type": "code",
   "execution_count": 21,
   "metadata": {
    "collapsed": true
   },
   "outputs": [],
   "source": [
    "def calculateDistance(first, second):\n",
    "    x = second[0] - first[0]\n",
    "    y = second[1] - first[1]\n",
    "    return (x**2.0 + y**2.0)**0.5"
   ]
  },
  {
   "cell_type": "code",
   "execution_count": 30,
   "metadata": {},
   "outputs": [
    {
     "name": "stdout",
     "output_type": "stream",
     "text": [
      "21.025611625951555 14.038948016852594\n",
      "21.03759625751677 14.025623559238692\n",
      "21.02458746840974 14.029939229580643\n",
      "21.037932366976104 14.036925869676573\n",
      "21.036080274229853 14.037118070686967\n",
      "21.036281953367176 14.03716698863381\n",
      "21.036281953367176 14.03716698863381\n",
      "21.036281953367176 14.03716698863381\n",
      "21.036281953367176 14.03716698863381\n",
      "20.9292026642321 14.063322734570706\n",
      "20.920609043786843 14.069105123551585\n",
      "20.918485824306977 14.066930889274213\n",
      "20.909298052848676 14.068024208800908\n",
      "20.929228048441104 14.065241981093964\n",
      "20.933810592459604 14.064057450628367\n",
      "20.933293236862422 14.06381622650317\n",
      "20.933600833019156 14.064262760094074\n",
      "20.933600833019156 14.064262760094074\n",
      "20.98560845139775 14.051737952953289\n",
      "20.958128067776855 14.053916668534415\n",
      "20.964672428462674 14.07840669920738\n",
      "20.980338967851857 14.072111375151325\n",
      "20.981574712076856 14.073212500504342\n",
      "20.981574712076856 14.073212500504342\n",
      "20.999063020856795 14.088202171268977\n",
      "20.999063020856795 14.088202171268977\n",
      "20.999063020856795 14.088202171268977\n",
      "20.795444154586775 14.10381088131673\n",
      "20.77605066977546 14.103849813070337\n",
      "20.759839018099346 14.08328812202606\n",
      "20.773527945000534 14.075170092259466\n",
      "20.76920236008152 14.076475718392084\n",
      "20.76920236008152 14.076475718392084\n",
      "20.76920236008152 14.076475718392084\n",
      "20.76920236008152 14.076475718392084\n",
      "20.777926368088707 14.081119977327678\n",
      "20.92090177711046 14.08907514062255\n",
      "20.86662155456309 14.078341679072496\n",
      "20.86557033774392 14.07698521580591\n",
      "20.799886355887903 14.068136463849807\n",
      "20.81656756351611 14.063195860834647\n",
      "20.818783291026577 14.062093298882466\n",
      "20.81863343883533 14.062102380833451\n",
      "20.81863343883533 14.062102380833451\n",
      "20.81863343883533 14.062102380833451\n",
      "21.014374668190367 14.089109445439249\n",
      "21.029288721710014 14.090689553015952\n",
      "21.03207351521436 14.086606536274896\n",
      "21.04964846297471 14.075788166557974\n",
      "21.05141912864831 14.076108170876042\n",
      "21.05141912864831 14.076108170876042\n",
      "21.044341155879412 14.078323689098443\n",
      "21.043332336572064 14.07872033705408\n",
      "21.042083792674056 14.078740298054479\n",
      "21.057267914945367 14.075115796627143\n",
      "21.02547111944876 14.089549632641\n",
      "20.979063512984006 14.08198714066897\n",
      "20.962341272488715 14.097249093779883\n",
      "20.962132330051322 14.097766630199857\n",
      "20.962530794475228 14.098649045260096\n",
      "20.962530794475228 14.098649045260096\n",
      "20.962530794475228 14.098649045260096\n",
      "20.962530794475228 14.098649045260096\n",
      "20.95818382432093 14.062448419390721\n",
      "20.953419453911124 14.076704787819192\n",
      "20.95449096419351 14.077050173981368\n",
      "20.945017367430115 14.073468947574177\n",
      "20.94480939628678 14.072826614425134\n",
      "20.94480939628678 14.072826614425134\n",
      "20.95240578250863 14.069013413406214\n",
      "20.944633271290225 14.067154918939332\n",
      "20.945363471629562 14.066615107218173\n",
      "20.953113612438255 14.072520491987655\n",
      "20.9443394698483 14.06455037880833\n",
      "20.954164199723703 14.063360066024364\n",
      "20.98212280505536 14.066462364388771\n",
      "20.985517552922655 14.066490444179067\n",
      "20.985517552922655 14.066490444179067\n",
      "20.985517552922655 14.066490444179067\n",
      "20.985517552922655 14.066490444179067\n",
      "20.99562248762537 14.080404931073184\n",
      "20.972051524724847 14.088537570482144\n",
      "20.966853216650478 14.092048158413018\n",
      "20.94870654610302 14.08408011822784\n",
      "20.94497891585222 14.084341086665289\n",
      "20.94518620416824 14.084376292460124\n",
      "20.94542327056171 14.074459150539614\n",
      "20.945250588510127 14.072705708997466\n",
      "20.944305946718053 14.072695584991937\n",
      "20.944305946718053 14.072695584991937\n",
      "20.958126302292033 14.06701127317412\n",
      "20.958126302292033 14.06701127317412\n",
      "20.985745653024214 14.066466948760802\n",
      "20.9866320750099 14.062954738626805\n",
      "20.984428526938647 14.063362548382791\n",
      "20.984219213674606 14.063185432025163\n",
      "20.948844136792474 14.05847730219329\n",
      "20.945315901205976 14.05840929593774\n",
      "20.945608365872268 14.05861496342175\n",
      "20.978753897440043 14.068397264828244\n",
      "20.993757942905386 14.060260549750094\n",
      "20.98559063570989 14.067011629003787\n",
      "20.975235594561543 14.070997590101431\n",
      "20.975506130211354 14.070837997868926\n",
      "20.975133526354597 14.070876868020214\n",
      "20.975133526354597 14.070876868020214\n",
      "20.975133526354597 14.070876868020214\n",
      "20.97208431419325 14.076824399443666\n",
      "20.990680545300652 14.06328675106701\n",
      "21.002484332532177 14.071537995013365\n",
      "21.010895229169297 14.074928356433503\n",
      "21.013043439069023 14.074722590298999\n",
      "21.011512306646804 14.073578851199612\n",
      "21.01141753899605 14.073874222554252\n",
      "21.011376881708333 14.073706712270202\n",
      "21.011376881708333 14.073706712270202\n",
      "21.011376881708333 14.073706712270202\n",
      "20.982150807463473 14.096508861636153\n",
      "21.007178663988306 14.081848427509394\n",
      "21.019212485424703 14.076195174455108\n",
      "21.034206088656873 14.075426510952047\n",
      "21.035544194806942 14.074971971837302\n",
      "21.035544194806942 14.074971971837302\n",
      "21.03824871763803 14.061459132705952\n",
      "21.038570101552228 14.061079424342918\n",
      "21.038006434619508 14.060698115832125\n",
      "20.968204573744128 14.04571018416725\n",
      "21.00714243764485 14.06097048605621\n",
      "21.029407674882812 14.065265660394285\n",
      "21.030844257808646 14.057646235430294\n",
      "21.028391435937674 14.055930949445129\n",
      "21.028391435937674 14.055930949445129\n",
      "21.028391435937674 14.055930949445129\n",
      "21.028391435937674 14.055930949445129\n",
      "21.02885309399671 14.051304351724417\n",
      "21.011271593434163 14.033357823811913\n",
      "21.011271593434163 14.033357823811913\n",
      "21.004636923517616 14.038411271841879\n",
      "21.009111423911342 14.048229327256072\n",
      "21.003924794149466 14.054178251812647\n",
      "21.00466667262666 14.055302752621651\n",
      "21.00460854211832 14.05523992579845\n",
      "21.00460854211832 14.05523992579845\n",
      "21.00460854211832 14.05523992579845\n",
      "21.021061269146607 14.045431717903648\n",
      "21.01839904956177 14.054049449687296\n",
      "21.026207453249025 14.058267186869367\n",
      "20.999802079959696 14.073315880384325\n",
      "20.99870014212979 14.072666102945146\n",
      "20.99870014212979 14.072666102945146\n",
      "20.99870014212979 14.072666102945146\n",
      "20.99870014212979 14.072666102945146\n",
      "20.994204669508925 14.076974567933403\n",
      "21.043885354870987 14.059949253091274\n",
      "21.044147040543017 14.052884335916366\n",
      "21.11108922944715 14.023050343741048\n",
      "21.140171039774817 14.023782417326293\n",
      "21.138898984596196 14.025373877693871\n",
      "21.138903595753654 14.026225580372767\n",
      "21.138903595753654 14.025431409675422\n",
      "21.138903595753654 14.025431409675422\n",
      "21.138903595753654 14.025431409675422\n",
      "21.353943703756183 14.117768695675275\n",
      "21.382317993084204 14.104929618207144\n",
      "21.378474586075402 14.100476552801249\n",
      "21.34808555396594 14.109478413178056\n",
      "21.288807184080934 14.105519531162956\n",
      "21.294370924391472 14.109185078871244\n",
      "21.292303783022316 14.106986510222095\n",
      "21.292303783022316 14.106986510222095\n",
      "21.292303783022316 14.106986510222095\n",
      "21.08064119365068 14.048053742905319\n",
      "21.077239451617196 14.061040862504992\n",
      "21.095333482043273 14.05887129154584\n",
      "21.090111575202936 14.06504170139926\n",
      "21.090521276311215 14.065282123975857\n",
      "21.08689451706204 14.066371937768231\n",
      "21.08689451706204 14.066371937768231\n",
      "21.08689451706204 14.066371937768231\n",
      "21.112514488988367 14.070644088270692\n",
      "21.2784347097717 14.104640801268914\n",
      "21.298302489175065 14.089671199631034\n",
      "21.336555823220838 14.043807551162843\n",
      "21.339453548959472 14.042526266488329\n",
      "21.339453548959472 14.042526266488329\n",
      "21.37193615294436 14.055275498241501\n",
      "21.36890866548548 14.055479665120306\n",
      "21.371035788334986 14.056229153520238\n",
      "21.371035788334986 14.056229153520238\n",
      "21.311868518567888 14.055788079940996\n",
      "21.311868518567888 14.055788079940996\n",
      "21.316139219392863 14.05339708662293\n",
      "21.309284536439883 14.059190086538333\n",
      "21.308567719794265 14.060044721247927\n",
      "21.309691157968675 14.060439145182874\n",
      "21.282382280911072 14.02867061979134\n",
      "21.281200490105874 14.027009680937484\n",
      "21.281347899069146 14.026965162518065\n",
      "21.27529759897105 14.081650274551071\n",
      "21.29914127274685 14.083180790352104\n",
      "21.33143023725165 14.080809077454367\n",
      "21.321683722726394 14.079058092385619\n",
      "21.320636944963358 14.078697549935336\n",
      "21.31955503460293 14.077967745846975\n",
      "21.31955503460293 14.077967745846975\n",
      "21.31955503460293 14.077967745846975\n",
      "21.320974166689147 14.089004882522726\n",
      "21.283272037439712 14.062723148371855\n",
      "21.287609748239106 14.06524034976238\n",
      "21.29079377885348 14.079463045134688\n",
      "21.290680735285548 14.080803417347612\n",
      "21.30013565961117 14.085658712760987\n",
      "21.30189527036135 14.086783432335523\n",
      "21.30204532791747 14.08674221319578\n",
      "21.30204532791747 14.08674221319578\n",
      "21.30204532791747 14.08674221319578\n",
      "21.28066105986616 14.082329535178152\n",
      "21.276830795239324 14.080848351707958\n",
      "21.27633302912288 14.072929185228022\n",
      "21.27225608379611 14.059167456770057\n"
     ]
    },
    {
     "name": "stdout",
     "output_type": "stream",
     "text": [
      "21.270679779921196 14.05939780733626\n",
      "21.271769941862566 14.058272848734337\n",
      "21.274662172846423 14.056433286196413\n",
      "21.28155664534792 14.056001265565323\n",
      "21.285557274281526 14.05470071553276\n",
      "21.275050612992096 14.075777456139164\n",
      "21.240288089748944 14.061157804926752\n",
      "21.23520942527274 14.05012853470437\n",
      "21.245670990763873 14.04549597138025\n",
      "21.244352261135667 14.045653405871018\n",
      "21.244352261135667 14.045653405871018\n",
      "21.24442600803344 14.04581599252872\n",
      "21.24442600803344 14.04581599252872\n",
      "21.24442600803344 14.04581599252872\n",
      "21.333312330665994 14.06497925236505\n",
      "21.322485499308637 14.060893924973513\n",
      "21.317071639354555 14.05857528545417\n"
     ]
    }
   ],
   "source": [
    "cap.set(cv2.CAP_PROP_POS_FRAMES, ref_frame_pos)\n",
    "signal = np.array([])\n",
    "while True:\n",
    "    flag, frame = cap.read()\n",
    "    key = cv2.waitKey(100) & 0xFF\n",
    "    if key == ord(\"q\"):\n",
    "        break\n",
    "    if flag:\n",
    "        pos_frame = cap.get(cv2.CAP_PROP_POS_FRAMES)\n",
    "        roi = frame[refPt[0][1]:refPt[1][1], refPt[0][0]:refPt[1][0]]\n",
    "        roi_gray = cv2.cvtColor(roi, cv2.COLOR_BGR2GRAY)\n",
    "        M = cv2.moments(roi_gray)\n",
    "        cX = (M[\"m10\"] / M[\"m00\"])\n",
    "        cY = (M[\"m01\"] / M[\"m00\"])\n",
    "        print(cX, cY)\n",
    "        dist = calculateDistance(refPt[0], (cX, cY))\n",
    "        signal = np.append(signal, dist)\n",
    "        cv2.rectangle(frame, refPt[0], refPt[1], (0,0,255), 2)\n",
    "        cv2.imshow(\"Extracting Signal\", frame)\n",
    "    else:\n",
    "        cap.set(cv2.CAP_PROP_POS_FRAMES, pos_frame-1)\n",
    "        print(\"frame is not ready\")\n",
    "    if cap.get(cv2.CAP_PROP_POS_FRAMES) == cap.get(cv2.CAP_PROP_FRAME_COUNT):\n",
    "        # If the number of captured frames is equal to the total number of frames,\n",
    "        # we stop\n",
    "        break\n",
    "cv2.destroyAllWindows()"
   ]
  },
  {
   "cell_type": "code",
   "execution_count": 31,
   "metadata": {},
   "outputs": [
    {
     "data": {
      "text/plain": [
       "[<matplotlib.lines.Line2D at 0x1fae99aa748>]"
      ]
     },
     "execution_count": 31,
     "metadata": {},
     "output_type": "execute_result"
    },
    {
     "data": {
      "image/png": "[encoded data removed]",
      "text/plain": [
       "<matplotlib.figure.Figure at 0x1fae6c673c8>"
      ]
     },
     "metadata": {},
     "output_type": "display_data"
    }
   ],
   "source": [
    "plt.plot(signal)"
   ]
  },
  {
   "cell_type": "code",
   "execution_count": 32,
   "metadata": {},
   "outputs": [
    {
     "data": {
      "text/plain": [
       "array([ 324.55396461,  324.5551848 ,  324.56114414,  324.54683779,\n",
       "        324.54798932,  324.54781379,  324.54781379,  324.54781379,\n",
       "        324.54781379,  324.60360599,  324.60544173,  324.60848069,\n",
       "        324.61409528,  324.60221106,  324.59986957,  324.60040298,\n",
       "        324.59986832,  324.59986832,  324.57263899,  324.59021181,\n",
       "        324.56807905,  324.5616867 ,  324.5600359 ,  324.5600359 ,\n",
       "        324.5370997 ,  324.5370997 ,  324.5370997 ,  324.66773168,\n",
       "        324.681216  ,  324.70726064,  324.7035464 ,  324.70562355,\n",
       "        324.70562355,  324.70562355,  324.70562355,  324.69621382,\n",
       "        324.59090802,  324.6364178 ,  324.63812329,  324.69022847,\n",
       "        324.68215201,  324.68139948,  324.68149736,  324.68149736,\n",
       "        324.68149736,  324.52578603,  324.51426663,  324.51525797,\n",
       "        324.51078536,  324.5093228 ,  324.5093228 ,  324.51266086,\n",
       "        324.5130786 ,  324.51393363,  324.50596275,  324.51774311,\n",
       "        324.55548747,  324.55618087,  324.55595501,  324.55504427,\n",
       "        324.55504427,  324.55504427,  324.55504427,  324.58405013,\n",
       "        324.57713726,  324.57614316,  324.58531088,  324.58591667,\n",
       "        324.58591667,  324.58336273,  324.59010944,  324.58998828,\n",
       "        324.580353  ,  324.59218313,  324.58619519,  324.56449862,\n",
       "        324.56211447,  324.56211447,  324.56211447,  324.56211447,\n",
       "        324.54509151,  324.55566984,  324.55677081,  324.57512691,\n",
       "        324.57753577,  324.57736614,  324.58431761,  324.58569617,\n",
       "        324.58636132,  324.58636132,  324.58081567,  324.58081567,\n",
       "        324.56197249,  324.56387589,  324.56511768,  324.56539055,\n",
       "        324.59340422,  324.59591014,  324.59555887,  324.56545602,\n",
       "        324.5608474 ,  324.56168953,  324.56603995,  324.56596608,\n",
       "        324.56619767,  324.56619767,  324.56619767,  324.56405285,\n",
       "        324.56081843,  324.54667692,  324.53838675,  324.53703855,\n",
       "        324.53892561,  324.53877961,  324.53892815,  324.53892815,\n",
       "        324.53892815,  324.54291602,  324.53600821,  324.53168594,\n",
       "        324.52179735,  324.52119186,  324.52119186,  324.52900774,\n",
       "        324.52905651,  324.52972267,  324.58908436,  324.55101778,\n",
       "        324.53243144,  324.5369001 ,  324.53983913,  324.53983913,\n",
       "        324.53983913,  324.53983913,  324.54283853,  324.56796166,\n",
       "        324.56796166,  324.56895408,  324.55879156,  324.55813328,\n",
       "        324.55680961,  324.55689518,  324.55689518,  324.55689518,\n",
       "        324.55247901,  324.54814719,  324.53968294,  324.54726872,\n",
       "        324.54850241,  324.54850241,  324.54850241,  324.54850241,\n",
       "        324.54854074,  324.52616688,  324.53105581,  324.5058691 ,\n",
       "        324.48510027,  324.48484305,  324.48422833,  324.48479853,\n",
       "        324.48479853,  324.48479853,  324.2688335 ,  324.25831098,\n",
       "        324.26418358,  324.27886385,  324.32295879,  324.31645452,\n",
       "        324.31947192,  324.31947192,  324.31947192,  324.50911535,\n",
       "        324.50216088,  324.49112129,  324.49032726,  324.48986944,\n",
       "        324.49161208,  324.49161208,  324.49161208,  324.47070893,\n",
       "        324.33080855,  324.32773166,  324.33405254,  324.33295669,\n",
       "        324.33295669,  324.3011993 ,  324.30315899,  324.30114071,\n",
       "        324.30114071,  324.34262526,  324.34262526,  324.34137082,\n",
       "        324.34197997,  324.34186497,  324.34079996,  324.38261862,\n",
       "        324.38463384,  324.38456324,  324.34950118,  324.33180896,\n",
       "        324.31104341,  324.31908303,  324.32007037,  324.32134735,\n",
       "        324.32134735,  324.32134735,  324.31243323,  324.35754381,\n",
       "        324.35271753,  324.34028783,  324.33940393,  324.32933747,\n",
       "        324.32730525,  324.32723043,  324.32723043,  324.32723043,\n",
       "        324.34528081,  324.34901005,  324.35504335,  324.36776326,\n",
       "        324.36869479,  324.36874401,  324.36805239,  324.36356487,\n",
       "        324.36171493,  324.35389041,  324.38858137,  324.40003588,\n",
       "        324.39608199,  324.39688667,  324.39688667,  324.39671859,\n",
       "        324.39671859,  324.39671859,  324.32110294,  324.3315706 ,\n",
       "        324.33700298])"
      ]
     },
     "execution_count": 32,
     "metadata": {},
     "output_type": "execute_result"
    }
   ],
   "source": [
    "signal"
   ]
  },
  {
   "cell_type": "code",
   "execution_count": 33,
   "metadata": {},
   "outputs": [
    {
     "name": "stdout",
     "output_type": "stream",
     "text": [
      "-0.497890295359 0.497890295359\n"
     ]
    }
   ],
   "source": [
    "w = np.fft.fft(signal)\n",
    "freqs = np.fft.fftfreq(len(w))\n",
    "print(freqs.min(), freqs.max())"
   ]
  },
  {
   "cell_type": "code",
   "execution_count": 34,
   "metadata": {},
   "outputs": [
    {
     "data": {
      "text/plain": [
       "0.49789029535864976"
      ]
     },
     "execution_count": 34,
     "metadata": {},
     "output_type": "execute_result"
    }
   ],
   "source": [
    "# Find the peak in the coefficients\n",
    "max(freqs)"
   ]
  },
  {
   "cell_type": "code",
   "execution_count": 42,
   "metadata": {},
   "outputs": [
    {
     "data": {
      "text/plain": [
       "(-1, 5)"
      ]
     },
     "execution_count": 42,
     "metadata": {},
     "output_type": "execute_result"
    },
    {
     "data": {
      "image/png": "[encoded data removed]",
      "text/plain": [
       "<matplotlib.figure.Figure at 0x1fae971efd0>"
      ]
     },
     "metadata": {},
     "output_type": "display_data"
    }
   ],
   "source": [
    "from __future__ import division\n",
    "ps = np.abs(np.fft.fft(signal))**2\n",
    "\n",
    "time_step = 1 / 9\n",
    "freqs = np.fft.fftfreq(signal.size, time_step)\n",
    "idx = np.argsort(freqs)\n",
    "\n",
    "plt.plot(freqs[idx], ps[idx])\n",
    "plt.ylim(-1, 5)"
   ]
  },
  {
   "cell_type": "code",
   "execution_count": 36,
   "metadata": {},
   "outputs": [
    {
     "data": {
      "text/plain": [
       "4.481012658227848"
      ]
     },
     "execution_count": 36,
     "metadata": {},
     "output_type": "execute_result"
    }
   ],
   "source": [
    "max(freqs)"
   ]
  },
  {
   "cell_type": "code",
   "execution_count": 43,
   "metadata": {
    "collapsed": true
   },
   "outputs": [],
   "source": [
    "signaltransformed = signal - np.mean(signal)"
   ]
  },
  {
   "cell_type": "code",
   "execution_count": 45,
   "metadata": {},
   "outputs": [
    {
     "data": {
      "text/plain": [
       "(-1, 5)"
      ]
     },
     "execution_count": 45,
     "metadata": {},
     "output_type": "execute_result"
    },
    {
     "data": {
      "image/png": "[encoded data removed]",
      "text/plain": [
       "<matplotlib.figure.Figure at 0x1fae9c7fef0>"
      ]
     },
     "metadata": {},
     "output_type": "display_data"
    }
   ],
   "source": [
    "ps1 = np.abs(np.fft.fft(signaltransformed))**2\n",
    "freqs = np.fft.fftfreq(signaltransformed.size, time_step)\n",
    "idx = np.argsort(freqs)\n",
    "\n",
    "plt.plot(freqs[idx], ps1[idx])\n",
    "plt.ylim(-1, 5)"
   ]
  },
  {
   "cell_type": "code",
   "execution_count": 46,
   "metadata": {},
   "outputs": [
    {
     "data": {
      "text/plain": [
       "[<matplotlib.lines.Line2D at 0x1fae9bc3588>]"
      ]
     },
     "execution_count": 46,
     "metadata": {},
     "output_type": "execute_result"
    },
    {
     "data": {
      "image/png": "[encoded data removed]",
      "text/plain": [
       "<matplotlib.figure.Figure at 0x1fae9a29c88>"
      ]
     },
     "metadata": {},
     "output_type": "display_data"
    }
   ],
   "source": [
    "plt.plot(signaltransformed)"
   ]
  },
  {
   "cell_type": "code",
   "execution_count": 48,
   "metadata": {},
   "outputs": [
    {
     "data": {
      "text/plain": [
       "[<matplotlib.lines.Line2D at 0x1fae9e362e8>]"
      ]
     },
     "execution_count": 48,
     "metadata": {},
     "output_type": "execute_result"
    },
    {
     "data": {
      "image/png": "[encoded data removed]",
      "text/plain": [
       "<matplotlib.figure.Figure at 0x1fae9c23da0>"
      ]
     },
     "metadata": {},
     "output_type": "display_data"
    }
   ],
   "source": [
    "plt.plot(freqs[idx], ps1[idx])"
   ]
  },
  {
   "cell_type": "code",
   "execution_count": null,
   "metadata": {
    "collapsed": true
   },
   "outputs": [],
   "source": []
  }
 ],
 "metadata": {
  "kernelspec": {
   "display_name": "Python 3",
   "language": "python",
   "name": "python3"
  },
  "language_info": {
   "codemirror_mode": {
    "name": "ipython",
    "version": 3
   },
   "file_extension": ".py",
   "mimetype": "text/x-python",
   "name": "python",
   "nbconvert_exporter": "python",
   "pygments_lexer": "ipython3",
   "version": "3.6.3"
  }
 },
 "nbformat": 4,
 "nbformat_minor": 2
}
